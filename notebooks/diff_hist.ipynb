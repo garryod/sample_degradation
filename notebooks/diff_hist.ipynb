{
 "cells": [
  {
   "cell_type": "markdown",
   "metadata": {},
   "source": [
    "# Histogram of difference of sequential frames as a proxy for change\n",
    "\n",
    "This notebook shows the use of a histogram of the pixel-wise difference between sequential frames as a proxy for rate of change of the observed scattering signal, which itself may be used as a proxy for changes in the physical characteristics of the sample"
   ]
  },
  {
   "cell_type": "code",
   "execution_count": null,
   "metadata": {},
   "outputs": [],
   "source": [
    "from typing import Optional\n",
    "\n",
    "from numpy import ndarray, dtype, integer, bool_, histogram, zeros, s_\n",
    "from numpy.ma import  masked_where\n",
    "from matplotlib.pyplot import figure, imshow\n",
    "from matplotlib.colors import LogNorm\n",
    "\n",
    "from adcorr.corrections import mask_frames\n",
    "from sample_degradation.reading import map_frames, load_data"
   ]
  },
  {
   "cell_type": "code",
   "execution_count": null,
   "metadata": {},
   "outputs": [],
   "source": [
    "FILE_PATH = \"/dls/i22/data/2022/sm30693-1/i22-623617.nxs\"\n",
    "FRAMES_KEY = \"entry1/instrument/detector/data\"\n",
    "MASK_KEY = \"entry1/instrument/detector/pixel_mask\""
   ]
  },
  {
   "cell_type": "code",
   "execution_count": null,
   "metadata": {},
   "outputs": [],
   "source": [
    "mask: ndarray[tuple[int, int], bool_] = load_data(FILE_PATH, MASK_KEY)"
   ]
  },
  {
   "cell_type": "code",
   "execution_count": null,
   "metadata": {},
   "outputs": [],
   "source": [
    "counts_list: list[ndarray[tuple[int], dtype[integer]]] = []\n",
    "bounds_list: list[tuple[int, int]] = []\n",
    "\n",
    "prior_masked_frame: Optional[ndarray] = None\n",
    "\n",
    "for idx, frame in enumerate(map_frames(FILE_PATH, FRAMES_KEY)):\n",
    "    masked_frame: ndarray = masked_where(mask, frame)\n",
    "    if prior_masked_frame is not None:\n",
    "        difference = masked_frame - prior_masked_frame\n",
    "        counts, edges = histogram(difference, range(difference.min(), difference.max() + 1))\n",
    "        counts_list.append(counts)\n",
    "        bounds_list.append((edges[0], edges[-1]))\n",
    "    prior_masked_frame = masked_frame\n",
    "    "
   ]
  },
  {
   "cell_type": "code",
   "execution_count": null,
   "metadata": {},
   "outputs": [],
   "source": [
    "min_bound = min(bound[0] for bound in bounds_list)\n",
    "max_bound = max(bound[1] for bound in bounds_list)\n",
    "\n",
    "counts_map = zeros((len(counts_list), max_bound-min_bound), counts_list[0].dtype)\n",
    "\n",
    "for idx, (counts, bounds) in enumerate(zip(counts_list, bounds_list)):\n",
    "    counts_map[idx, (bounds[0] - min_bound):(bounds[1] - min_bound)] = counts"
   ]
  },
  {
   "cell_type": "code",
   "execution_count": null,
   "metadata": {},
   "outputs": [],
   "source": [
    "fig = figure(figsize=(32, 16))\n",
    "imshow(counts_map, aspect='auto', interpolation='none', norm=LogNorm(clip=True))"
   ]
  }
 ],
 "metadata": {
  "kernelspec": {
   "display_name": "Python 3.10.8 ('venv')",
   "language": "python",
   "name": "python3"
  },
  "language_info": {
   "codemirror_mode": {
    "name": "ipython",
    "version": 3
   },
   "file_extension": ".py",
   "mimetype": "text/x-python",
   "name": "python",
   "nbconvert_exporter": "python",
   "pygments_lexer": "ipython3",
   "version": "3.10.8"
  },
  "orig_nbformat": 4,
  "vscode": {
   "interpreter": {
    "hash": "006d5deb8e6cdcd4312641bdf15f3bc20f0769a7305d81173599a7b40f33b4a2"
   }
  }
 },
 "nbformat": 4,
 "nbformat_minor": 2
}
