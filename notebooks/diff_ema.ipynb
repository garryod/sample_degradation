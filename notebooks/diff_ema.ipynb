{
 "cells": [
  {
   "cell_type": "markdown",
   "metadata": {},
   "source": [
    "# Difference of Exponential Moving Averages (EMAs) as proxy for change\n",
    "\n",
    "This notebook shows the use of the absolute difference of a pixel-wise fast and slow exponential moving average as a proxy for rate of change of the observed scattering signal, which itself may be used as a proxy for changes in the physical characteristics of the sample"
   ]
  },
  {
   "cell_type": "code",
   "execution_count": null,
   "metadata": {},
   "outputs": [],
   "source": [
    "from typing import Tuple, List\n",
    "\n",
    "from numpy import ndarray, dtype, floating, bool_, s_, mean, abs\n",
    "from numpy.ma import  MaskedArray, masked_where\n",
    "from matplotlib.pyplot import plot, figure\n",
    "\n",
    "from adcorr.corrections import mask_frames\n",
    "from sample_degradation.reading import map_frames, load_data"
   ]
  },
  {
   "cell_type": "code",
   "execution_count": null,
   "metadata": {},
   "outputs": [],
   "source": [
    "FILE_PATH = \"/dls/i22/data/2022/sm30693-1/i22-623617.nxs\"\n",
    "FRAMES_KEY = \"entry1/instrument/detector/data\"\n",
    "\n",
    "FAST = 0.4\n",
    "SLOW = 0.2"
   ]
  },
  {
   "cell_type": "code",
   "execution_count": null,
   "metadata": {},
   "outputs": [],
   "source": [
    "mask: ndarray[Tuple[int, int], bool_] = load_data(FILE_PATH, \"entry1/instrument/detector/pixel_mask\")"
   ]
  },
  {
   "cell_type": "code",
   "execution_count": null,
   "metadata": {},
   "outputs": [],
   "source": [
    "fast_ema: MaskedArray[Tuple[int, int], dtype[floating]] = mask_frames(\n",
    "    load_data(FILE_PATH, FRAMES_KEY, s_[0, 0, :, :]),\n",
    "    mask,\n",
    ")\n",
    "slow_ema: MaskedArray[Tuple[int, int], dtype[floating]] = mask_frames(\n",
    "    load_data(FILE_PATH, FRAMES_KEY, s_[0, 0, :, :]),\n",
    "    mask,\n",
    ")\n",
    "\n",
    "metric: List[float] = []\n",
    "\n",
    "for frame in map_frames(FILE_PATH, FRAMES_KEY):\n",
    "    masked_frame = masked_where(mask, frame)\n",
    "    fast_ema = (1 - FAST) * fast_ema + FAST * frame\n",
    "    slow_ema = (1 - SLOW) * slow_ema + SLOW * frame\n",
    "    metric.append(mean(abs(fast_ema - slow_ema)))"
   ]
  },
  {
   "cell_type": "code",
   "execution_count": null,
   "metadata": {},
   "outputs": [],
   "source": [
    "fig = figure(figsize=(32, 16))\n",
    "plot(metric)"
   ]
  }
 ],
 "metadata": {
  "kernelspec": {
   "display_name": "Python 3.10.8 ('venv')",
   "language": "python",
   "name": "python3"
  },
  "language_info": {
   "codemirror_mode": {
    "name": "ipython",
    "version": 3
   },
   "file_extension": ".py",
   "mimetype": "text/x-python",
   "name": "python",
   "nbconvert_exporter": "python",
   "pygments_lexer": "ipython3",
   "version": "3.10.8"
  },
  "orig_nbformat": 4,
  "vscode": {
   "interpreter": {
    "hash": "006d5deb8e6cdcd4312641bdf15f3bc20f0769a7305d81173599a7b40f33b4a2"
   }
  }
 },
 "nbformat": 4,
 "nbformat_minor": 2
}
