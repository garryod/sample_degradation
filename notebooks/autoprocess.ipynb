{
 "cells": [
  {
   "cell_type": "code",
   "execution_count": null,
   "metadata": {},
   "outputs": [],
   "source": [
    "from typing import Tuple, Literal, TypeVar\n",
    "\n",
    "from numpy import integer, bool_, floating, ndarray, s_, ones\n",
    "from plotly.express import line\n",
    "\n",
    "from sample_degradation.processing_stages import (\n",
    "    load_data,\n",
    "    mask_frames,\n",
    "    estimate_poisson_uncertainty,\n",
    "    correct_deadtime,\n",
    "    correct_dark_current,\n",
    "    normalize_frame_time,\n",
    "    normalize_transmitted_flux,\n",
    "    correct_self_absorbtion,\n",
    "    average_frames,\n",
    "    subtract_background,\n",
    "    correct_flatfield,\n",
    "    correct_angular_efficincy,\n",
    "    correct_solid_angle,\n",
    "    correct_polarization,\n",
    "    normalize_thickness,\n",
    "    azimuthally_integrate\n",
    ")\n",
    "from sample_degradation.utils.hdf5_filters import load_hdf5_filters\n",
    "from sample_degradation.utils.visualization import show_frame\n",
    "from sample_degradation.utils.get_background import get_background\n"
   ]
  },
  {
   "cell_type": "code",
   "execution_count": null,
   "metadata": {},
   "outputs": [],
   "source": [
    "FILE_PATH = \"/dls/i22/data/2021/sm27656-2/i22-588299.nxs\"\n",
    "BACKGROUND_PATH = get_background(FILE_PATH)\n",
    "\n",
    "ABSORBTION_COEFF = 0.01"
   ]
  },
  {
   "cell_type": "code",
   "execution_count": null,
   "metadata": {},
   "outputs": [],
   "source": [
    "load_hdf5_filters()\n",
    "NumFrames = TypeVar(\"NumFrames\", bound=int)\n",
    "NumBackgrounds = TypeVar(\"NumBackgrounds\", bound=int)\n",
    "frames: ndarray[Tuple[NumFrames, Literal[1679], Literal[1475]], integer] = load_data(FILE_PATH, \"entry1/instrument/detector/data\", s_[740:750, 0, :, :]).squeeze()\n",
    "background: ndarray[Tuple[NumBackgrounds, Literal[1679], Literal[1475]], integer] = load_data(BACKGROUND_PATH, \"entry1/instrument/detector/data\", s_[0, :10, :, :]).squeeze()"
   ]
  },
  {
   "cell_type": "code",
   "execution_count": null,
   "metadata": {},
   "outputs": [],
   "source": [
    "mask: ndarray[Tuple[Literal[1679], Literal[1475]], bool_] = load_data(FILE_PATH, \"entry1/instrument/detector/pixel_mask\")\n",
    "frames = mask_frames(frames, mask)\n",
    "background = mask_frames(background, mask)"
   ]
  },
  {
   "cell_type": "code",
   "execution_count": null,
   "metadata": {},
   "outputs": [],
   "source": [
    "uncert_frames = estimate_poisson_uncertainty(frames)\n",
    "uncert_background = estimate_poisson_uncertainty(background)"
   ]
  },
  {
   "cell_type": "code",
   "execution_count": null,
   "metadata": {},
   "outputs": [],
   "source": [
    "count_times: ndarray[Tuple[Literal[10]], floating] = load_data(FILE_PATH, \"entry1/instrument/detector/count_time\", s_[740:750, 0]).squeeze()\n",
    "\n",
    "uncert_frames = correct_deadtime(uncert_frames, count_times, 3E-6, 2E-6)\n",
    "uncert_background = correct_deadtime(uncert_background, count_times[0], 3E-6, 2E-6)"
   ]
  },
  {
   "cell_type": "code",
   "execution_count": null,
   "metadata": {},
   "outputs": [],
   "source": [
    "uncert_frames = correct_dark_current(uncert_frames, count_times, 0.0, 0.0, 0.0)\n",
    "uncert_background = correct_dark_current(uncert_background, count_times, 0.0, 0.0, 0.0)"
   ]
  },
  {
   "cell_type": "code",
   "execution_count": null,
   "metadata": {},
   "outputs": [],
   "source": [
    "uncert_frames = normalize_frame_time(uncert_frames, count_times)\n",
    "uncert_background = normalize_frame_time(uncert_background, count_times[0])"
   ]
  },
  {
   "cell_type": "code",
   "execution_count": null,
   "metadata": {},
   "outputs": [],
   "source": [
    "uncert_frames = normalize_transmitted_flux(uncert_frames)\n",
    "uncert_background = normalize_transmitted_flux(uncert_background)"
   ]
  },
  {
   "cell_type": "code",
   "execution_count": null,
   "metadata": {},
   "outputs": [],
   "source": [
    "beam_center_pixels = (\n",
    "    load_data(FILE_PATH, \"entry1/instrument/detector/beam_center_y\"),\n",
    "    load_data(FILE_PATH, \"entry1/instrument/detector/beam_center_x\")\n",
    ")\n",
    "pixel_sizes = (\n",
    "    load_data(FILE_PATH, \"entry1/instrument/detector/y_pixel_size\"),\n",
    "    load_data(FILE_PATH, \"entry1/instrument/detector/x_pixel_size\")\n",
    ")\n",
    "distance = load_data(FILE_PATH, \"entry1/instrument/detector/distance\")\n",
    "thickness = load_data(FILE_PATH, \"entry1/sample/thickness\")\n",
    "\n",
    "\n",
    "uncert_frames = correct_self_absorbtion(\n",
    "    uncert_frames,\n",
    "    beam_center_pixels,\n",
    "    pixel_sizes,\n",
    "    distance,\n",
    "    ABSORBTION_COEFF,\n",
    "    thickness\n",
    "    )\n",
    "uncert_background = correct_self_absorbtion(\n",
    "    uncert_background,\n",
    "    beam_center_pixels,\n",
    "    pixel_sizes,\n",
    "    distance,\n",
    "    ABSORBTION_COEFF,\n",
    "    thickness\n",
    ")"
   ]
  },
  {
   "cell_type": "code",
   "execution_count": null,
   "metadata": {},
   "outputs": [],
   "source": [
    "azimuthally_intensities, azimuths = azimuthally_integrate(\n",
    "    uncert_frames[0][\"nominal\"],\n",
    "    beam_center_pixels,\n",
    "    pixel_sizes,\n",
    "    distance\n",
    ")\n",
    "line(x=azimuths, y=azimuthally_intensities, log_y=True)"
   ]
  },
  {
   "cell_type": "code",
   "execution_count": null,
   "metadata": {},
   "outputs": [],
   "source": [
    "uncert_background = average_frames(uncert_background)"
   ]
  },
  {
   "cell_type": "code",
   "execution_count": null,
   "metadata": {},
   "outputs": [],
   "source": [
    "diff_frames = subtract_background(uncert_frames, uncert_background)"
   ]
  },
  {
   "cell_type": "code",
   "execution_count": null,
   "metadata": {},
   "outputs": [],
   "source": [
    "diff_frames = correct_flatfield(diff_frames, ones(diff_frames.shape[1:], dtype=floating))"
   ]
  },
  {
   "cell_type": "code",
   "execution_count": null,
   "metadata": {},
   "outputs": [],
   "source": [
    "diff_frames = correct_angular_efficincy(\n",
    "    diff_frames,\n",
    "    beam_center_pixels,\n",
    "    pixel_sizes,\n",
    "    distance,\n",
    "    ABSORBTION_COEFF,\n",
    "    thickness\n",
    ")"
   ]
  },
  {
   "cell_type": "code",
   "execution_count": null,
   "metadata": {},
   "outputs": [],
   "source": [
    "diff_frames = correct_solid_angle(\n",
    "    diff_frames,\n",
    "    beam_center_pixels,\n",
    "    pixel_sizes,\n",
    "    distance\n",
    ")"
   ]
  },
  {
   "cell_type": "code",
   "execution_count": null,
   "metadata": {},
   "outputs": [],
   "source": [
    "diff_frames = correct_polarization(\n",
    "    diff_frames,\n",
    "    beam_center_pixels,\n",
    "    pixel_sizes,\n",
    "    distance,\n",
    "    0.99\n",
    ")"
   ]
  },
  {
   "cell_type": "code",
   "execution_count": null,
   "metadata": {},
   "outputs": [],
   "source": [
    "diff_frames = normalize_thickness(\n",
    "    diff_frames,\n",
    "    1E-3\n",
    ")"
   ]
  },
  {
   "cell_type": "code",
   "execution_count": null,
   "metadata": {},
   "outputs": [],
   "source": [
    "show_frame(diff_frames[0][\"nominal\"].filled(0.0))"
   ]
  }
 ],
 "metadata": {
  "interpreter": {
   "hash": "f696c3b8971f59f3c96e7a350bc06d28656395184adf37eebac8efe2cfdb85ca"
  },
  "kernelspec": {
   "display_name": "Python 3.9.1 ('degradation_eda-1juY2YLm')",
   "language": "python",
   "name": "python3"
  },
  "language_info": {
   "codemirror_mode": {
    "name": "ipython",
    "version": 3
   },
   "file_extension": ".py",
   "mimetype": "text/x-python",
   "name": "python",
   "nbconvert_exporter": "python",
   "pygments_lexer": "ipython3",
   "version": "3.9.1"
  },
  "orig_nbformat": 4
 },
 "nbformat": 4,
 "nbformat_minor": 2
}
