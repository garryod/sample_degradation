{
 "cells": [
  {
   "cell_type": "code",
   "execution_count": null,
   "metadata": {},
   "outputs": [],
   "source": [
    "from typing import Tuple, Literal\n",
    "\n",
    "from numpy import integer, bool_, floating, ndarray\n",
    "\n",
    "from degradation_eda.processing_stages import (\n",
    "    load_data,\n",
    "    mask_frames,\n",
    "    estimate_poisson_uncertainty,\n",
    "    correct_deadtime,\n",
    "    correct_dark_current,\n",
    "    correct_frame_time,\n",
    "    correct_flux_and_transmission\n",
    ")\n",
    "from degradation_eda.utils.visualization import show_frame"
   ]
  },
  {
   "cell_type": "code",
   "execution_count": null,
   "metadata": {},
   "outputs": [],
   "source": [
    "FILE_PATH = \"../data/i22_tutorial/monoolein/i22-363079.nxs\""
   ]
  },
  {
   "cell_type": "code",
   "execution_count": null,
   "metadata": {},
   "outputs": [],
   "source": [
    "frames: ndarray[Tuple[Literal[10], Literal[1679], Literal[1475]], integer] = load_data(FILE_PATH, \"entry1/detector/data\").squeeze()\n",
    "show_frame(frames[0], log_z=100000)"
   ]
  },
  {
   "cell_type": "code",
   "execution_count": null,
   "metadata": {},
   "outputs": [],
   "source": [
    "mask: ndarray[Tuple[Literal[1679], Literal[1475]], bool_] = load_data(FILE_PATH, \"entry1/detector/pixel_mask\")\n",
    "frames = mask_frames(frames, mask)"
   ]
  },
  {
   "cell_type": "code",
   "execution_count": null,
   "metadata": {},
   "outputs": [],
   "source": [
    "uncert_frames = estimate_poisson_uncertainty(frames)"
   ]
  },
  {
   "cell_type": "code",
   "execution_count": null,
   "metadata": {},
   "outputs": [],
   "source": [
    "count_times: ndarray[Tuple[Literal[10]], floating] = load_data(FILE_PATH, \"entry1/instrument/detector/count_time\").squeeze()\n",
    "dead_times: ndarray[Tuple[Literal[10]], floating] = load_data(FILE_PATH, \"entry1/instrument/detector/wait_time\").squeeze()\n",
    "\n",
    "uncert_frames = correct_deadtime(uncert_frames, count_times, dead_times)"
   ]
  },
  {
   "cell_type": "code",
   "execution_count": null,
   "metadata": {},
   "outputs": [],
   "source": [
    "uncert_frames = correct_dark_current(uncert_frames, 0.0)"
   ]
  },
  {
   "cell_type": "code",
   "execution_count": null,
   "metadata": {},
   "outputs": [],
   "source": [
    "uncert_frames = correct_frame_time(uncert_frames, count_times, dead_times)"
   ]
  },
  {
   "cell_type": "code",
   "execution_count": null,
   "metadata": {},
   "outputs": [],
   "source": [
    "uncert_frames = correct_flux_and_transmission(uncert_frames)"
   ]
  },
  {
   "cell_type": "code",
   "execution_count": null,
   "metadata": {},
   "outputs": [],
   "source": [
    "show_frame(uncert_frames[0][\"nominal\"], log_z=100000) "
   ]
  }
 ],
 "metadata": {
  "interpreter": {
   "hash": "f696c3b8971f59f3c96e7a350bc06d28656395184adf37eebac8efe2cfdb85ca"
  },
  "kernelspec": {
   "display_name": "Python 3.9.1 ('degradation_eda-1juY2YLm')",
   "language": "python",
   "name": "python3"
  },
  "language_info": {
   "codemirror_mode": {
    "name": "ipython",
    "version": 3
   },
   "file_extension": ".py",
   "mimetype": "text/x-python",
   "name": "python",
   "nbconvert_exporter": "python",
   "pygments_lexer": "ipython3",
   "version": "3.9.1"
  },
  "orig_nbformat": 4
 },
 "nbformat": 4,
 "nbformat_minor": 2
}
