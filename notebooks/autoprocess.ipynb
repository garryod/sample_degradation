{
 "cells": [
  {
   "cell_type": "code",
   "execution_count": null,
   "metadata": {},
   "outputs": [],
   "source": [
    "from numpy import unsignedinteger, bool_, floating\n",
    "from numpy.typing import NDArray\n",
    "\n",
    "from degradation_eda.processing_stages import (\n",
    "    load_data,\n",
    "    mask_frames,\n",
    "    estimate_poisson_uncertainty,\n",
    "    correct_deadtime,\n",
    "    correct_dark_current\n",
    ")\n",
    "from degradation_eda.utils.visualization import show_frame"
   ]
  },
  {
   "cell_type": "code",
   "execution_count": null,
   "metadata": {},
   "outputs": [],
   "source": [
    "FILE_PATH = \"../data/i22_tutorial/monoolein/i22-363079.nxs\""
   ]
  },
  {
   "cell_type": "code",
   "execution_count": null,
   "metadata": {},
   "outputs": [],
   "source": [
    "frames: NDArray[unsignedinteger] = load_data(FILE_PATH, \"entry1/Pilatus2M_WAXS/data\").squeeze()\n",
    "show_frame(frames[0])"
   ]
  },
  {
   "cell_type": "code",
   "execution_count": null,
   "metadata": {},
   "outputs": [],
   "source": [
    "mask: NDArray[bool_] = load_data(FILE_PATH, \"entry1/Pilatus2M_WAXS/pixel_mask\")\n",
    "frames = mask_frames(frames, mask)"
   ]
  },
  {
   "cell_type": "code",
   "execution_count": null,
   "metadata": {},
   "outputs": [],
   "source": [
    "uncertainties = estimate_poisson_uncertainty(frames)"
   ]
  },
  {
   "cell_type": "code",
   "execution_count": 6,
   "metadata": {},
   "outputs": [],
   "source": [
    "count_times: NDArray[floating] = load_data(FILE_PATH, \"entry1/instrument/Pilatus2M_WAXS/count_time\")\n",
    "dead_times: NDArray[floating] = load_data(FILE_PATH, \"entry1/instrument/Pilatus2M_WAXS/wait_time\")\n",
    "\n",
    "frames, uncertainties = correct_deadtime(frames, uncertainties, count_times, dead_times)"
   ]
  },
  {
   "cell_type": "code",
   "execution_count": 7,
   "metadata": {},
   "outputs": [],
   "source": [
    "frames, uncertainties = correct_dark_current(frames, uncertainties, 0.0)"
   ]
  }
 ],
 "metadata": {
  "interpreter": {
   "hash": "f696c3b8971f59f3c96e7a350bc06d28656395184adf37eebac8efe2cfdb85ca"
  },
  "kernelspec": {
   "display_name": "Python 3.9.1 ('degradation_eda-1juY2YLm')",
   "language": "python",
   "name": "python3"
  },
  "language_info": {
   "codemirror_mode": {
    "name": "ipython",
    "version": 3
   },
   "file_extension": ".py",
   "mimetype": "text/x-python",
   "name": "python",
   "nbconvert_exporter": "python",
   "pygments_lexer": "ipython3",
   "version": "3.9.1"
  },
  "orig_nbformat": 4
 },
 "nbformat": 4,
 "nbformat_minor": 2
}
