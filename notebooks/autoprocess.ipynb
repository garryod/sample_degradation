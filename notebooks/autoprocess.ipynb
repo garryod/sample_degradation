{
 "cells": [
  {
   "cell_type": "code",
   "execution_count": null,
   "metadata": {},
   "outputs": [],
   "source": [
    "from numpy import floating, bool_\n",
    "from numpy.typing import NDArray\n",
    "\n",
    "from degradation_eda.processing_stages import load_data\n",
    "from degradation_eda.utils.visualization import show_frame"
   ]
  },
  {
   "cell_type": "code",
   "execution_count": null,
   "metadata": {},
   "outputs": [],
   "source": [
    "frames: NDArray[floating] = load_data(\"\",\"\")\n",
    "mask: NDArray[bool_] = load_data(\"\",\"\")\n",
    "show_frame[frames[0]]"
   ]
  }
 ],
 "metadata": {
  "interpreter": {
   "hash": "f696c3b8971f59f3c96e7a350bc06d28656395184adf37eebac8efe2cfdb85ca"
  },
  "kernelspec": {
   "display_name": "Python 3.9.1 ('degradation_eda-1juY2YLm')",
   "language": "python",
   "name": "python3"
  },
  "language_info": {
   "codemirror_mode": {
    "name": "ipython",
    "version": 3
   },
   "file_extension": ".py",
   "mimetype": "text/x-python",
   "name": "python",
   "nbconvert_exporter": "python",
   "pygments_lexer": "ipython3",
   "version": "3.9.1"
  },
  "orig_nbformat": 4
 },
 "nbformat": 4,
 "nbformat_minor": 2
}
