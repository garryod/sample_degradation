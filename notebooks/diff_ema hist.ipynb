{
 "cells": [
  {
   "cell_type": "markdown",
   "metadata": {},
   "source": [
    "# Histogram of differences of Exponential Moving Averages (EMAs) as proxy for change\n",
    "\n",
    "This notebook shows the use of a histogram of the difference of a pixel-wise fast and slow exponential moving average as a proxy for rate of change of the observed scattering signal, which itself may be used as a proxy for changes in the physical characteristics of the sample"
   ]
  },
  {
   "cell_type": "code",
   "execution_count": null,
   "metadata": {},
   "outputs": [],
   "source": [
    "from numpy import ndarray, dtype, floating, bool_, s_, linspace, histogram, zeros\n",
    "from matplotlib.pyplot import figure, imshow\n",
    "from matplotlib.colors import LogNorm\n",
    "\n",
    "from adcorr.corrections import mask_frames\n",
    "from sample_degradation.reading import map_frames, load_data"
   ]
  },
  {
   "cell_type": "code",
   "execution_count": null,
   "metadata": {},
   "outputs": [],
   "source": [
    "FILE_PATH = \"/dls/i22/data/2022/sm30693-1/i22-623617.nxs\"\n",
    "FRAMES_KEY = \"entry1/instrument/detector/data\"\n",
    "\n",
    "FAST = 0.8\n",
    "SLOW = 0.6\n",
    "BIN_WIDTH = 1.0"
   ]
  },
  {
   "cell_type": "code",
   "execution_count": null,
   "metadata": {},
   "outputs": [],
   "source": [
    "mask: ndarray[tuple[int, int], bool_] = load_data(FILE_PATH, \"entry1/instrument/detector/pixel_mask\")"
   ]
  },
  {
   "cell_type": "code",
   "execution_count": null,
   "metadata": {},
   "outputs": [],
   "source": [
    "counts_list: list[ndarray] = list()\n",
    "bounds_list: list[tuple[int, int]] = list()\n",
    "\n",
    "for idx, frame in enumerate(map_frames(FILE_PATH, FRAMES_KEY)):\n",
    "    masked_frame = mask_frames(frame, mask)\n",
    "    if idx == 0:\n",
    "        fast_ema = masked_frame.copy()\n",
    "        slow_ema = masked_frame.copy()\n",
    "        continue\n",
    "    fast_ema = (1 - FAST) * fast_ema + FAST * frame\n",
    "    slow_ema = (1 - SLOW) * slow_ema + SLOW * frame\n",
    "    difference = fast_ema - slow_ema\n",
    "    min_difference = difference.min()\n",
    "    max_difference = difference.max()\n",
    "    min_bound = int(min_difference / BIN_WIDTH)\n",
    "    max_bound = int(max_difference / BIN_WIDTH) + 1\n",
    "    counts, edges = histogram(\n",
    "            difference,\n",
    "            linspace(\n",
    "                min_bound*BIN_WIDTH,\n",
    "                max_bound*BIN_WIDTH,\n",
    "                max_bound - min_bound + 1\n",
    "            )\n",
    "        )\n",
    "    counts_list.append(counts)\n",
    "    bounds_list.append((min_bound, max_bound))"
   ]
  },
  {
   "cell_type": "code",
   "execution_count": null,
   "metadata": {},
   "outputs": [],
   "source": [
    "min_bound = min(bound[0] for bound in bounds_list)\n",
    "max_bound = max(bound[1] for bound in bounds_list)\n",
    "\n",
    "counts_map = zeros((len(counts_list), max_bound-min_bound), counts_list[0].dtype)\n",
    "\n",
    "for idx, (counts, bounds) in enumerate(zip(counts_list, bounds_list)):\n",
    "    counts_map[idx, (bounds[0] - min_bound):(bounds[1] - min_bound)] = counts"
   ]
  },
  {
   "cell_type": "code",
   "execution_count": null,
   "metadata": {},
   "outputs": [],
   "source": [
    "fig = figure(figsize=(32, 16))\n",
    "imshow(counts_map, aspect='auto', interpolation='none', norm=LogNorm(clip=True))"
   ]
  }
 ],
 "metadata": {
  "kernelspec": {
   "display_name": "Python 3.10.4 64-bit",
   "language": "python",
   "name": "python3"
  },
  "language_info": {
   "codemirror_mode": {
    "name": "ipython",
    "version": 3
   },
   "file_extension": ".py",
   "mimetype": "text/x-python",
   "name": "python",
   "nbconvert_exporter": "python",
   "pygments_lexer": "ipython3",
   "version": "3.10.4"
  },
  "orig_nbformat": 4,
  "vscode": {
   "interpreter": {
    "hash": "949777d72b0d2535278d3dc13498b2535136f6dfe0678499012e853ee9abcab1"
   }
  }
 },
 "nbformat": 4,
 "nbformat_minor": 2
}
