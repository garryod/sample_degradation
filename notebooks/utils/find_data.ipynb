{
 "cells": [
  {
   "cell_type": "code",
   "execution_count": null,
   "metadata": {},
   "outputs": [],
   "source": [
    "import os\n",
    "from nexusformat.nexus import NXFile\n",
    "from typing import cast\n",
    "from math import prod\n",
    "\n",
    "directory = os.fsencode(\"/dls/i22/data/2022/sm30693-1/\")\n",
    "max_frames = 0\n",
    "for file_ref in os.listdir(directory):\n",
    "    file_name = os.fsdecode(file_ref)\n",
    "    if file_name.endswith(\".nxs\"):\n",
    "        file_path = os.path.join(directory, file_ref)\n",
    "        with NXFile(os.fsdecode(file_path)) as nxfile:\n",
    "            dataset = nxfile[\"entry1/instrument/detector/data\"]\n",
    "            if hasattr(dataset, \"shape\"):\n",
    "                n_frames = prod(cast(tuple[int, ...], dataset.shape[:-2]))\n",
    "                has_mask = nxfile[\"entry1/instrument/detector/pixel_mask\"] is not None\n",
    "                print(f\"{file_name} contains {n_frames} {'with mask' if has_mask else ''}\")\n",
    "                if n_frames > max_frames:\n",
    "                    max_frames = n_frames\n",
    "                    file_max_frames = file_name\n",
    "                    file_max_frames_shape = dataset.shape\n",
    "print(f\"{file_max_frames} had the most frames ({max_frames}) {file_max_frames_shape}\")"
   ]
  }
 ],
 "metadata": {
  "interpreter": {
   "hash": "949777d72b0d2535278d3dc13498b2535136f6dfe0678499012e853ee9abcab1"
  },
  "kernelspec": {
   "display_name": "Python 3.10.4 64-bit",
   "language": "python",
   "name": "python3"
  },
  "language_info": {
   "codemirror_mode": {
    "name": "ipython",
    "version": 3
   },
   "file_extension": ".py",
   "mimetype": "text/x-python",
   "name": "python",
   "nbconvert_exporter": "python",
   "pygments_lexer": "ipython3",
   "version": "3.10.4"
  },
  "orig_nbformat": 4
 },
 "nbformat": 4,
 "nbformat_minor": 2
}
