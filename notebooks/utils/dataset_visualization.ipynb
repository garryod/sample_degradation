{
 "cells": [
  {
   "cell_type": "code",
   "execution_count": null,
   "metadata": {},
   "outputs": [],
   "source": [
    "from numpy import ndarray, dtype, bool_, number, s_\n",
    "from matplotlib.pyplot import imshow, subplots\n",
    "from matplotlib.colors import SymLogNorm\n",
    "\n",
    "from adcorr.corrections import mask_frames\n",
    "from sample_degradation.reading import load_data"
   ]
  },
  {
   "cell_type": "code",
   "execution_count": null,
   "metadata": {},
   "outputs": [],
   "source": [
    "FILE_PATH = \"/dls/i22/data/2022/sm30693-1/i22-623617.nxs\"\n",
    "FRAMES_KEY = \"entry1/instrument/detector/data\"\n",
    "MASK_KEY = \"entry1/instrument/detector/pixel_mask\"\n",
    "\n",
    "IMGS_PER_ROW = 2"
   ]
  },
  {
   "cell_type": "code",
   "execution_count": null,
   "metadata": {},
   "outputs": [],
   "source": [
    "mask: ndarray[tuple[int, int], bool_] = load_data(FILE_PATH, MASK_KEY)"
   ]
  },
  {
   "cell_type": "code",
   "execution_count": null,
   "metadata": {},
   "outputs": [],
   "source": [
    "sample_frames: ndarray[tuple[int, int, int], dtype[number]] = mask_frames(\n",
    "    load_data(FILE_PATH, FRAMES_KEY).squeeze(),\n",
    "    mask\n",
    ")"
   ]
  },
  {
   "cell_type": "code",
   "execution_count": null,
   "metadata": {},
   "outputs": [],
   "source": [
    "num_rows = sample_frames.shape[0] // IMGS_PER_ROW + 1\n",
    "fig, axes = subplots(num_rows, IMGS_PER_ROW)\n",
    "fig.set_figheight(16 * num_rows)\n",
    "fig.set_figwidth(16 * IMGS_PER_ROW)\n",
    "for idx, frame in enumerate(sample_frames):\n",
    "    axes[idx // IMGS_PER_ROW, idx % IMGS_PER_ROW].imshow(frame.filled(0), norm=SymLogNorm(linthresh=1.0))"
   ]
  }
 ],
 "metadata": {
  "kernelspec": {
   "display_name": "Python 3.10.8 ('venv')",
   "language": "python",
   "name": "python3"
  },
  "language_info": {
   "codemirror_mode": {
    "name": "ipython",
    "version": 3
   },
   "file_extension": ".py",
   "mimetype": "text/x-python",
   "name": "python",
   "nbconvert_exporter": "python",
   "pygments_lexer": "ipython3",
   "version": "3.10.8"
  },
  "orig_nbformat": 4,
  "vscode": {
   "interpreter": {
    "hash": "006d5deb8e6cdcd4312641bdf15f3bc20f0769a7305d81173599a7b40f33b4a2"
   }
  }
 },
 "nbformat": 4,
 "nbformat_minor": 2
}
